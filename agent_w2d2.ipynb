{
 "cells": [
  {
   "cell_type": "code",
   "execution_count": 15,
   "metadata": {},
   "outputs": [
    {
     "data": {
      "text/plain": [
       "True"
      ]
     },
     "execution_count": 15,
     "metadata": {},
     "output_type": "execute_result"
    }
   ],
   "source": [
    "from dotenv import load_dotenv\n",
    "from agents import Agent, Runner, trace, function_tool\n",
    "from openai.types.responses import ResponseTextDeltaEvent\n",
    "from typing import Dict\n",
    "import sendgrid\n",
    "import os\n",
    "from sendgrid.helpers.mail import Mail, Email, To, Content\n",
    "import asyncio\n",
    "import ssl\n",
    "import certifi\n",
    "\n",
    "# Establece la ruta a los certificados de certifi\n",
    "os.environ['SSL_CERT_FILE'] = certifi.where()\n",
    "load_dotenv(override=True)"
   ]
  },
  {
   "cell_type": "code",
   "execution_count": 16,
   "metadata": {},
   "outputs": [],
   "source": [
    "instructions1 = \"Eres un agente de ventas que trabaja para ComplAI, \\\n",
    "    una empresa que ofrece una herramienta SaaS para garantizar el cumplimiento de SOC2\\\n",
    "    y prepararse para auditorías, impulsada por IA. Redactas correos electrónicos en frío profesionales y serios.\"\n",
    "\n",
    "instructions2 = \"Eres un agente de ventas con sentido del humor y atractivo \\\n",
    "    que trabaja para ComplAI, una empresa que ofrece una herramienta SaaS para \\\n",
    "    garantizar el cumplimiento de SOC2 y prepararse para auditorías, impulsada por IA. \\\n",
    "    Redactas correos electrónicos en frío ingeniosos y atractivos que probablemente obtengan respuesta.\"\n",
    "\n",
    "instructions3 = \"Eres un agente de ventas muy activo que trabaja para ComplAI, \\\n",
    "    una empresa que ofrece una herramienta SaaS para garantizar el cumplimiento de SOC2\\\n",
    "    y prepararse para auditorías, impulsada por IA. Redactas correos electrónicos en frío concisos y directos.\""
   ]
  },
  {
   "cell_type": "code",
   "execution_count": 17,
   "metadata": {},
   "outputs": [],
   "source": [
    "#TOOLS\n",
    "sales_agent1 = Agent(\n",
    "        name=\"Agente de ventas profesional\",\n",
    "        instructions=instructions1,\n",
    "        model=\"gpt-4o-mini\"\n",
    ")\n",
    "\n",
    "sales_agent2 = Agent(\n",
    "        name=\"Agente de ventas atractivo\",\n",
    "        instructions=instructions2,\n",
    "        model=\"gpt-4o-mini\"\n",
    ")\n",
    "\n",
    "sales_agent3 = Agent(\n",
    "        name=\"Agente de ventas ocpado\",\n",
    "        instructions=instructions3,\n",
    "        model=\"gpt-4o-mini\"\n",
    ")\n",
    "\n",
    "subject_instructions = \"Puedes escribir un asunto para un correo electrónico de ventas en frío. \\\n",
    "    Se te proporciona un mensaje y necesitas escribir un asunto para un correo electrónico que probablemente obtenga respuesta.\"\n",
    "\n",
    "html_instructions = \"Puedes convertir un cuerpo de correo electrónico de texto a un cuerpo de correo electrónico HTML. \\\n",
    "    Se te proporciona un cuerpo de correo electrónico de texto que puede tener algún markdown \\\n",
    "    y necesitas convertirlo a un cuerpo de correo electrónico HTML con un diseño simple, claro y atractivo.\"\n",
    "\n",
    "subject_writer = Agent(name=\"Escritor de asunto de correo electrónico\", instructions=subject_instructions, model=\"gpt-4o-mini\")\n",
    "subject_tool = subject_writer.as_tool(tool_name=\"subject_writer\", \n",
    "                                      tool_description=\"Escribe un asunto para un correo electrónico de ventas en frío\")\n",
    "\n",
    "html_converter = Agent(name=\"Conversor de cuerpo de correo electrónico HTML\", instructions=html_instructions, model=\"gpt-4o-mini\")\n",
    "html_tool = html_converter.as_tool(tool_name=\"html_converter\",\n",
    "                                   tool_description=\"Convierte un cuerpo de correo electrónico de texto a un cuerpo de correo electrónico HTML\")\n"
   ]
  },
  {
   "cell_type": "code",
   "execution_count": 18,
   "metadata": {},
   "outputs": [],
   "source": [
    "@function_tool\n",
    "def send_html_email(subject: str, html_body: str) -> Dict[str, str]:\n",
    "    \"\"\" Envía un correo electrónico con el asunto y el cuerpo HTML a todos los clientes potenciales de ventas \"\"\"\n",
    "    sg = sendgrid.SendGridAPIClient(api_key=os.environ.get('SENDGRID_API_KEY'))\n",
    "    from_email = Email(\"pavezgabriel9@gmail.com\") \n",
    "    to_email = To(\"pavezgabriel9@gmail.com\")  \n",
    "    content = Content(\"text/html\", html_body)\n",
    "    mail = Mail(from_email, to_email, subject, content).get()\n",
    "    response = sg.client.mail.send.post(request_body=mail)\n",
    "    return {\"status\": \"success\"}"
   ]
  },
  {
   "cell_type": "code",
   "execution_count": 19,
   "metadata": {},
   "outputs": [],
   "source": [
    "description = \"Escribe un correo electrónico de ventas en frío\"\n",
    "\n",
    "tool1 = sales_agent1.as_tool(tool_name=\"sales_agent1\", tool_description=description)\n",
    "tool2 = sales_agent2.as_tool(tool_name=\"sales_agent2\", tool_description=description)\n",
    "tool3 = sales_agent3.as_tool(tool_name=\"sales_agent3\", tool_description=description)\n",
    "\n",
    "tools = [tool1, tool2, tool3, subject_tool, html_tool, send_html_email]"
   ]
  },
  {
   "cell_type": "code",
   "execution_count": 20,
   "metadata": {},
   "outputs": [],
   "source": [
    "instructions =\"Eres un formateador y remitente de correos electrónicos. \\\n",
    "    Recibes el cuerpo de un correo electrónico para enviarlo. \\\n",
    "    Primero usas la herramienta subject_writer para escribir un asunto para el correo electrónico, \\\n",
    "    luego usas la herramienta html_converter para convertir el cuerpo a HTML. \\\n",
    "    Finalmente, usas la herramienta send_html_email para enviar el correo electrónico con el asunto y el cuerpo HTML.\"\n",
    "\n",
    "\n",
    "emailer_agent = Agent(\n",
    "    name=\"Email Manager\",\n",
    "    instructions=instructions,\n",
    "    tools=tools,\n",
    "    model=\"gpt-4o-mini\",\n",
    "    handoff_description=\"Convierte un email a HTML y lo envía\")\n",
    "\n",
    "tools = [tool1, tool2, tool3]\n",
    "handoffs = [emailer_agent]"
   ]
  },
  {
   "cell_type": "code",
   "execution_count": 21,
   "metadata": {},
   "outputs": [],
   "source": [
    "sales_manager_instructions = \"Eres un gerente de ventas que trabaja para ComplAI. Utilizas las herramientas que se te proporcionan para generar correos electrónicos de ventas en frío. \\\n",
    "Nunca generas correos electrónicos de ventas tú mismo; siempre utilizas las herramientas. \\\n",
    "Pruebas las 3 herramientas del agente de ventas al menos una vez antes de elegir la mejor. \\\n",
    "Puedes usar las herramientas múltiples veces si no estás satisfecho con los resultados del primer intento. \\\n",
    "Seleccionas el mejor correo electrónico usando tu propio criterio sobre cuál será más efectivo. \\\n",
    "Después de elegir el correo electrónico, transfieres al agente Email Manager para formatear y enviar el correo.\"\n",
    "\n",
    "\n",
    "sales_manager = Agent(\n",
    "    name=\"Manager de ventas\",\n",
    "    instructions=sales_manager_instructions,\n",
    "    tools=tools,\n",
    "    handoffs=handoffs,\n",
    "    model=\"gpt-4o-mini\")\n",
    "\n",
    "message = \"Envía un correo electrónico de ventas en frío dirigido a 'Estimado director ejecutivo'\"\n",
    "\n",
    "with trace(\"Automated SDR\"):\n",
    "    result = await Runner.run(sales_manager, message)\n",
    "    \n"
   ]
  },
  {
   "cell_type": "code",
   "execution_count": null,
   "metadata": {},
   "outputs": [],
   "source": []
  }
 ],
 "metadata": {
  "kernelspec": {
   "display_name": ".venv",
   "language": "python",
   "name": "python3"
  },
  "language_info": {
   "codemirror_mode": {
    "name": "ipython",
    "version": 3
   },
   "file_extension": ".py",
   "mimetype": "text/x-python",
   "name": "python",
   "nbconvert_exporter": "python",
   "pygments_lexer": "ipython3",
   "version": "3.12.3"
  }
 },
 "nbformat": 4,
 "nbformat_minor": 2
}
